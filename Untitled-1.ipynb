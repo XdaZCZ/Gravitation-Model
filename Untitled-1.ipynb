{
 "cells": [
  {
   "cell_type": "code",
   "execution_count": 1,
   "id": "2f20fdfc",
   "metadata": {
    "jupyter": {
     "source_hidden": true
    }
   },
   "outputs": [],
   "source": [
    "import math as mt\n",
    "import maths as ms\n",
    "import main as ma\n",
    "import plotly.express as px\n",
    "import nbformat\n",
    "import plotly.io as pio"
   ]
  },
  {
   "cell_type": "markdown",
   "id": "5e704118",
   "metadata": {},
   "source": [
    "In the box below enter the initial constants for the calculation"
   ]
  },
  {
   "cell_type": "code",
   "execution_count": 18,
   "id": "2df2e26a",
   "metadata": {},
   "outputs": [
    {
     "name": "stdout",
     "output_type": "stream",
     "text": [
      "Orbital speed for current conditions: 511.65181925852306\n"
     ]
    }
   ],
   "source": [
    "# constants\n",
    "gravitational_constant = 6.6743e-11  # meter cubed  per kilogram per second squared\n",
    "start_point = (-1e7, )  # meters\n",
    "start_velocity = (10, 500) # meter per second\n",
    "mass = 2e30 # kilograms\n",
    "dt = 0.005 # seconds\n",
    "limit_t = 5000 # seconds\n",
    "sampling = 10000 # 1 out of sampling (e.g. 100) will be displayed in plot\n",
    "isOrbital = True # if True automatically calculates orbital vel\n",
    "factor = 1.3 # a coefficient for orbital speed\n",
    "\n",
    "# calculated constants\n",
    "grav_parameter = mass * gravitational_constant  # meter cubed per second squared\n",
    "epsilon_0 = 1 / mt.sqrt(pow(start_point[0], 2) + pow(start_point[1], 2))\n",
    "orbital_speed = mt.sqrt(grav_parameter * epsilon_0)\n",
    "orbital_vel = ms.multiply(\n",
    "    orbital_speed * epsilon_0,\n",
    "    [-start_point[1], start_point[0]],\n",
    ")\n",
    "print(\"Orbital speed for current conditions: \"+str(orbital_speed))"
   ]
  },
  {
   "cell_type": "code",
   "execution_count": 19,
   "id": "35b3488e",
   "metadata": {
    "jupyter": {
     "source_hidden": true
    }
   },
   "outputs": [],
   "source": [
    "\n",
    "\n",
    "def prepare() -> list:\n",
    "    # mass\n",
    "    mass_list = list(str(int(mass)))\n",
    "    mass_string = \"{0},{1}{2}e{3}\".format(\n",
    "        mass_list[0], mass_list[1], mass_list[2], len(mass_list) - 1\n",
    "    )\n",
    "    # initial velocity\n",
    "    if isOrbital and factor == 1:\n",
    "        vel = orbital_vel\n",
    "    elif isOrbital and factor != 1:\n",
    "        vel = ms.multiply(\n",
    "            orbital_speed * epsilon_0 * factor,\n",
    "            [-start_point[1], start_point[0]],\n",
    "        )\n",
    "    else:\n",
    "        vel = start_velocity\n",
    "    vel_round = [round(vel[0], 2), round(vel[1], 2)]\n",
    "    return [mass_string, vel_round]\n",
    "\n",
    "\n",
    "# main part of the code, calculates the points\n",
    "def move(isOrbital: bool, factor: int) -> list:\n",
    "    t = 0\n",
    "    mark = 0\n",
    "    points_list = []  # collects all the points to be displayed [[x1,y1],[x2,y2]...]\n",
    "    while t < limit_t:\n",
    "        if t != 0:\n",
    "            point = point_future\n",
    "            point_future = 0\n",
    "            vel_now = vel_future\n",
    "            vel_future = 0\n",
    "        else:\n",
    "            point = ms.copy(start_point)\n",
    "            if isOrbital and factor == 1:\n",
    "                vel_now = ms.copy(orbital_vel)\n",
    "            elif isOrbital and factor != 1:\n",
    "                eliptic_vel = ms.multiply(\n",
    "                    orbital_speed * epsilon_0 * factor,\n",
    "                    [-start_point[1], start_point[0]],\n",
    "                )\n",
    "                vel_now = ms.copy(eliptic_vel)\n",
    "            else:\n",
    "                vel_now = ms.copy(start_velocity)\n",
    "        point_future = ms.point_calc(dt, point, vel_now)\n",
    "        vel_future = ms.velocity(grav_parameter, dt, point, vel_now)\n",
    "        if mark == 0:\n",
    "            points_list.append(point)\n",
    "            mark = sampling\n",
    "        else:\n",
    "            mark -= 1\n",
    "        t += dt\n",
    "    points_list.append(point)\n",
    "    return points_list\n"
   ]
  },
  {
   "cell_type": "code",
   "execution_count": 20,
   "id": "cf78c24a",
   "metadata": {
    "jupyter": {
     "source_hidden": true
    }
   },
   "outputs": [
    {
     "data": {
      "application/vnd.plotly.v1+json": {
       "config": {
        "plotlyServerURL": "https://plot.ly"
       },
       "data": [
        {
         "hovertemplate": "x / m=%{x}<br>y / m=%{y}<extra></extra>",
         "legendgroup": "",
         "marker": {
          "color": "#636efa",
          "symbol": "circle"
         },
         "mode": "markers",
         "name": "",
         "orientation": "v",
         "showlegend": false,
         "type": "scatter",
         "x": [
          -10000,
          -10000,
          -8645.302297421287,
          -8645.302297421287,
          -6386.310863326937,
          -6386.310863326937,
          -3741.3329490202636,
          -3741.3329490202636,
          -927.4174901717682,
          -927.4174901717682,
          1923.45348488651,
          1923.45348488651,
          4701.294046852322,
          4701.294046852322,
          7281.377678824066,
          7281.377678824066,
          9473.577941557118,
          9473.577941557118,
          10880.023681738096,
          10880.023681738096,
          10072.509585629401,
          10072.509585629401,
          -13784.205631980125,
          -13784.205631980125,
          -24342.678426165556,
          -24342.678426165556,
          -32644.896575916126,
          -32644.896575916126,
          -40157.70481489533,
          -40157.70481489533,
          -47246.85101318935,
          -47246.85101318935,
          -54066.780294094475,
          -54066.780294094475,
          -60698.710420882315,
          -60698.710420882315,
          -67191.11371492097,
          -67191.11371492097,
          -73575.439540459,
          -73575.439540459,
          -79873.34582211109,
          -79873.34582211109,
          -86100.43111605057,
          -86100.43111605057,
          -92268.32986837576,
          -92268.32986837576,
          -98385.96716004219,
          -98385.96716004219,
          -104460.3495744174,
          -104460.3495744174,
          -110497.08488813743,
          -110497.08488813743,
          -116500.73559282483,
          -116500.73559282483,
          -122475.06651240778,
          -122475.06651240778,
          -128423.22263753373,
          -128423.22263753373,
          -134347.8596426569,
          -134347.8596426569,
          -140251.2415105042,
          -140251.2415105042,
          -146135.31478647696,
          -146135.31478647696,
          -152001.7659048602,
          -152001.7659048602,
          -157852.0660400154,
          -157852.0660400154,
          -163687.50662118007,
          -163687.50662118007,
          -169509.22776178346,
          -169509.22776178346,
          -175318.24124308175,
          -175318.24124308175,
          -181115.44926395823,
          -181115.44926395823,
          -186901.65986415313,
          -186901.65986415313,
          -192677.59970836967,
          -192677.59970836967,
          -198443.92475784628,
          -198443.92475784628,
          -204201.22923689667,
          -204201.22923689667,
          -209950.05321275134,
          -209950.05321275134,
          -215690.88903952486,
          -215690.88903952486,
          -221424.18686555664,
          -221424.18686555664,
          -227150.3593636408,
          -227150.3593636408,
          -232869.78581268174,
          -232869.78581268174,
          -238582.81563514707,
          -238582.81563514707,
          -244289.7714754734,
          -244289.7714754734,
          -249990.9518894415,
          -249990.9518894415,
          -255686.63370228562,
          -255686.63370228562,
          -261377.07408356539,
          -261377.07408356539,
          -267062.5123787946,
          -267062.5123787946,
          -272743.17173145345,
          -272743.17173145345,
          -278419.2605236038,
          -278419.2605236038,
          -284090.9736590199,
          -284090.9736590199,
          -289758.49370917236,
          -289758.49370917236,
          -295421.9919393105,
          -295421.9919393105,
          -301081.6292294669,
          -301081.6292294669,
          -306737.5569030994,
          -306737.5569030994,
          -312389.9174742829,
          -312389.9174742829,
          -318038.8453229251,
          -318038.8453229251,
          -323684.46730621066,
          -323684.46730621066,
          -329326.9033133659,
          -329326.9033133659,
          -334966.26676996547,
          -334966.26676996547,
          -340602.6650972477,
          -340602.6650972477,
          -346236.20013112866,
          -346236.20013112866,
          -351866.96850513294,
          -351866.96850513294,
          -357495.06200091704,
          -357495.06200091704,
          -363120.5678696289,
          -363120.5678696289,
          -368743.5691269904,
          -368743.5691269904,
          -374364.1448246136,
          -374364.1448246136,
          -379982.3702998676,
          -379982.3702998676,
          -385598.31740626215,
          -385598.31740626215,
          -391212.0547261855,
          -391212.0547261855,
          -396823.64776754915,
          -396823.64776754915,
          -402433.1591458571,
          -402433.1591458571,
          -408040.6487529195,
          -408040.6487529195,
          -413646.17391337466,
          -413646.17391337466,
          -419249.7895301166,
          -419249.7895301166,
          -424851.54821951356,
          -424851.54821951356,
          -430451.50043726974,
          -430451.50043726974,
          -436049.69459573133,
          -436049.69459573133,
          -441646.177173298,
          -441646.177173298,
          -447240.9928165875,
          -447240.9928165875,
          -452834.1844359088,
          -452834.1844359088,
          -458425.79329457204,
          -458425.79329457204,
          -464015.85909252224,
          -464015.85909252224,
          -469604.4200446932,
          -469604.4200446932,
          -475191.51295452076,
          -475191.51295452076,
          -480777.1732828964,
          -480777.1732828964,
          -486361.4352130269,
          -486361.4352130269,
          -491944.3317113193,
          -491944.3317113193,
          -497525.8945847491,
          -497525.8945847491,
          -503106.1545348247,
          -503106.1545348247,
          -508685.1412084588,
          -508685.1412084588,
          -514262.8832459174,
          -514262.8832459174,
          -519839.4083261088,
          -519839.4083261088,
          -525414.7432092893,
          -525414.7432092893,
          -530988.9137774617,
          -530988.9137774617,
          -536505.6686983058,
          -536505.6686983058
         ],
         "xaxis": "x",
         "y": [
          50000,
          50000,
          70060.8293690527,
          70060.8293690527,
          83185.88460413722,
          83185.88460413722,
          91446.72444221089,
          91446.72444221089,
          95688.89260025535,
          95688.89260025535,
          96262.4474001142,
          96262.4474001142,
          93213.92689887622,
          93213.92689887622,
          86307.87653129369,
          86307.87653129369,
          74907.86435048218,
          74907.86435048218,
          57522.916478205196,
          57522.916478205196,
          29516.03307279867,
          29516.03307279867,
          29969.189590723385,
          29969.189590723385,
          72738.15965328719,
          72738.15965328719,
          109135.16921553377,
          109135.16921553377,
          142929.12339922134,
          142929.12339922134,
          175224.0468300938,
          175224.0468300938,
          206523.68016041812,
          206523.68016041812,
          237106.57600719863,
          237106.57600719863,
          267145.13097737945,
          267145.13097737945,
          296754.3615379856,
          296754.3615379856,
          326015.25854303566,
          326015.25854303566,
          354987.22989861376,
          354987.22989861376,
          383715.270744653,
          383715.270744653,
          412234.3524345802,
          412234.3524345802,
          440572.24125661765,
          440572.24125661765,
          468751.38103443995,
          468751.38103443995,
          496790.1921969141,
          496790.1921969141,
          524703.9932820885,
          524703.9932820885,
          552505.6702795094,
          552505.6702795094,
          580206.172908792,
          580206.172908792,
          607814.8892694255,
          607814.8892694255,
          635339.933209397,
          635339.933209397,
          662788.3678937899,
          662788.3678937899,
          690166.381962181,
          690166.381962181,
          717479.429929013,
          717479.429929013,
          744732.3452533239,
          744732.3452533239,
          771929.4322637172,
          771929.4322637172,
          799074.5415423186,
          799074.5415423186,
          826171.132237308,
          826171.132237308,
          853222.3239492412,
          853222.3239492412,
          880230.9402292931,
          880230.9402292931,
          907199.5452751952,
          907199.5452751952,
          934130.4750700152,
          934130.4750700152,
          961025.8639496833,
          961025.8639496833,
          987887.6673860813,
          987887.6673860813,
          1014717.6816181265,
          1014717.6816181265,
          1041517.5606429902,
          1041517.5606429902,
          1068288.8309844497,
          1068288.8309844497,
          1095032.9045802788,
          1095032.9045802788,
          1121751.0900704784,
          1121751.0900704784,
          1148444.6027199614,
          1148444.6027199614,
          1175114.5731701804,
          1175114.5731701804,
          1201762.0551824628,
          1201762.0551824628,
          1228388.0325101211,
          1228388.0325101211,
          1254993.42501494,
          1254993.42501494,
          1281579.0941258052,
          1281579.0941258052,
          1308145.84772336,
          1308145.84772336,
          1334694.4445216837,
          1334694.4445216837,
          1361225.5980082038,
          1361225.5980082038,
          1387739.979994597,
          1387739.979994597,
          1414238.2238239886,
          1414238.2238239886,
          1440720.9272736956,
          1440720.9272736956,
          1467188.655187908,
          1467188.655187908,
          1493641.9418697963,
          1493641.9418697963,
          1520081.2932593408,
          1520081.2932593408,
          1546507.1889192422,
          1546507.1889192422,
          1572920.0838493386,
          1572920.0838493386,
          1599320.4101467172,
          1599320.4101467172,
          1625708.5785273088,
          1625708.5785273088,
          1652084.9797225439,
          1652084.9797225439,
          1678449.985763258,
          1678449.985763258,
          1704803.951161608,
          1704803.951161608,
          1731147.2140007236,
          1731147.2140007236,
          1757480.0969403796,
          1757480.0969403796,
          1783802.9081467513,
          1783802.9081467513,
          1810115.9421526068,
          1810115.9421526068,
          1836419.480654525,
          1836419.480654525,
          1862713.7932522837,
          1862713.7932522837,
          1888999.1381356074,
          1888999.1381356074,
          1915275.762722691,
          1915275.762722691,
          1941543.904254356,
          1941543.904254356,
          1967803.7903477524,
          1967803.7903477524,
          1994055.639512731,
          1994055.639512731,
          2020299.6616338324,
          2020299.6616338324,
          2046536.058420742,
          2046536.058420742,
          2072765.0238295817,
          2072765.0238295817,
          2098986.744457275,
          2098986.744457275,
          2125201.3999111336,
          2125201.3999111336,
          2151409.163155337,
          2151409.163155337,
          2177610.2008361896,
          2177610.2008361896,
          2203804.673587658,
          2203804.673587658,
          2229992.736318447,
          2229992.736318447,
          2256174.538482322,
          2256174.538482322,
          2282350.224332355,
          2282350.224332355,
          2308519.933160688,
          2308519.933160688,
          2334683.7995243873,
          2334683.7995243873,
          2360841.953458712,
          2360841.953458712,
          2386994.5206783493,
          2386994.5206783493,
          2413141.6227676617,
          2413141.6227676617,
          2439283.377360441,
          2439283.377360441,
          2465155.971635452,
          2465155.971635452
         ],
         "yaxis": "y"
        }
       ],
       "layout": {
        "height": 800,
        "legend": {
         "tracegroupgap": 0
        },
        "margin": {
         "t": 60
        },
        "template": {
         "data": {
          "bar": [
           {
            "error_x": {
             "color": "#2a3f5f"
            },
            "error_y": {
             "color": "#2a3f5f"
            },
            "marker": {
             "line": {
              "color": "#E5ECF6",
              "width": 0.5
             },
             "pattern": {
              "fillmode": "overlay",
              "size": 10,
              "solidity": 0.2
             }
            },
            "type": "bar"
           }
          ],
          "barpolar": [
           {
            "marker": {
             "line": {
              "color": "#E5ECF6",
              "width": 0.5
             },
             "pattern": {
              "fillmode": "overlay",
              "size": 10,
              "solidity": 0.2
             }
            },
            "type": "barpolar"
           }
          ],
          "carpet": [
           {
            "aaxis": {
             "endlinecolor": "#2a3f5f",
             "gridcolor": "white",
             "linecolor": "white",
             "minorgridcolor": "white",
             "startlinecolor": "#2a3f5f"
            },
            "baxis": {
             "endlinecolor": "#2a3f5f",
             "gridcolor": "white",
             "linecolor": "white",
             "minorgridcolor": "white",
             "startlinecolor": "#2a3f5f"
            },
            "type": "carpet"
           }
          ],
          "choropleth": [
           {
            "colorbar": {
             "outlinewidth": 0,
             "ticks": ""
            },
            "type": "choropleth"
           }
          ],
          "contour": [
           {
            "colorbar": {
             "outlinewidth": 0,
             "ticks": ""
            },
            "colorscale": [
             [
              0,
              "#0d0887"
             ],
             [
              0.1111111111111111,
              "#46039f"
             ],
             [
              0.2222222222222222,
              "#7201a8"
             ],
             [
              0.3333333333333333,
              "#9c179e"
             ],
             [
              0.4444444444444444,
              "#bd3786"
             ],
             [
              0.5555555555555556,
              "#d8576b"
             ],
             [
              0.6666666666666666,
              "#ed7953"
             ],
             [
              0.7777777777777778,
              "#fb9f3a"
             ],
             [
              0.8888888888888888,
              "#fdca26"
             ],
             [
              1,
              "#f0f921"
             ]
            ],
            "type": "contour"
           }
          ],
          "contourcarpet": [
           {
            "colorbar": {
             "outlinewidth": 0,
             "ticks": ""
            },
            "type": "contourcarpet"
           }
          ],
          "heatmap": [
           {
            "colorbar": {
             "outlinewidth": 0,
             "ticks": ""
            },
            "colorscale": [
             [
              0,
              "#0d0887"
             ],
             [
              0.1111111111111111,
              "#46039f"
             ],
             [
              0.2222222222222222,
              "#7201a8"
             ],
             [
              0.3333333333333333,
              "#9c179e"
             ],
             [
              0.4444444444444444,
              "#bd3786"
             ],
             [
              0.5555555555555556,
              "#d8576b"
             ],
             [
              0.6666666666666666,
              "#ed7953"
             ],
             [
              0.7777777777777778,
              "#fb9f3a"
             ],
             [
              0.8888888888888888,
              "#fdca26"
             ],
             [
              1,
              "#f0f921"
             ]
            ],
            "type": "heatmap"
           }
          ],
          "heatmapgl": [
           {
            "colorbar": {
             "outlinewidth": 0,
             "ticks": ""
            },
            "colorscale": [
             [
              0,
              "#0d0887"
             ],
             [
              0.1111111111111111,
              "#46039f"
             ],
             [
              0.2222222222222222,
              "#7201a8"
             ],
             [
              0.3333333333333333,
              "#9c179e"
             ],
             [
              0.4444444444444444,
              "#bd3786"
             ],
             [
              0.5555555555555556,
              "#d8576b"
             ],
             [
              0.6666666666666666,
              "#ed7953"
             ],
             [
              0.7777777777777778,
              "#fb9f3a"
             ],
             [
              0.8888888888888888,
              "#fdca26"
             ],
             [
              1,
              "#f0f921"
             ]
            ],
            "type": "heatmapgl"
           }
          ],
          "histogram": [
           {
            "marker": {
             "pattern": {
              "fillmode": "overlay",
              "size": 10,
              "solidity": 0.2
             }
            },
            "type": "histogram"
           }
          ],
          "histogram2d": [
           {
            "colorbar": {
             "outlinewidth": 0,
             "ticks": ""
            },
            "colorscale": [
             [
              0,
              "#0d0887"
             ],
             [
              0.1111111111111111,
              "#46039f"
             ],
             [
              0.2222222222222222,
              "#7201a8"
             ],
             [
              0.3333333333333333,
              "#9c179e"
             ],
             [
              0.4444444444444444,
              "#bd3786"
             ],
             [
              0.5555555555555556,
              "#d8576b"
             ],
             [
              0.6666666666666666,
              "#ed7953"
             ],
             [
              0.7777777777777778,
              "#fb9f3a"
             ],
             [
              0.8888888888888888,
              "#fdca26"
             ],
             [
              1,
              "#f0f921"
             ]
            ],
            "type": "histogram2d"
           }
          ],
          "histogram2dcontour": [
           {
            "colorbar": {
             "outlinewidth": 0,
             "ticks": ""
            },
            "colorscale": [
             [
              0,
              "#0d0887"
             ],
             [
              0.1111111111111111,
              "#46039f"
             ],
             [
              0.2222222222222222,
              "#7201a8"
             ],
             [
              0.3333333333333333,
              "#9c179e"
             ],
             [
              0.4444444444444444,
              "#bd3786"
             ],
             [
              0.5555555555555556,
              "#d8576b"
             ],
             [
              0.6666666666666666,
              "#ed7953"
             ],
             [
              0.7777777777777778,
              "#fb9f3a"
             ],
             [
              0.8888888888888888,
              "#fdca26"
             ],
             [
              1,
              "#f0f921"
             ]
            ],
            "type": "histogram2dcontour"
           }
          ],
          "mesh3d": [
           {
            "colorbar": {
             "outlinewidth": 0,
             "ticks": ""
            },
            "type": "mesh3d"
           }
          ],
          "parcoords": [
           {
            "line": {
             "colorbar": {
              "outlinewidth": 0,
              "ticks": ""
             }
            },
            "type": "parcoords"
           }
          ],
          "pie": [
           {
            "automargin": true,
            "type": "pie"
           }
          ],
          "scatter": [
           {
            "fillpattern": {
             "fillmode": "overlay",
             "size": 10,
             "solidity": 0.2
            },
            "type": "scatter"
           }
          ],
          "scatter3d": [
           {
            "line": {
             "colorbar": {
              "outlinewidth": 0,
              "ticks": ""
             }
            },
            "marker": {
             "colorbar": {
              "outlinewidth": 0,
              "ticks": ""
             }
            },
            "type": "scatter3d"
           }
          ],
          "scattercarpet": [
           {
            "marker": {
             "colorbar": {
              "outlinewidth": 0,
              "ticks": ""
             }
            },
            "type": "scattercarpet"
           }
          ],
          "scattergeo": [
           {
            "marker": {
             "colorbar": {
              "outlinewidth": 0,
              "ticks": ""
             }
            },
            "type": "scattergeo"
           }
          ],
          "scattergl": [
           {
            "marker": {
             "colorbar": {
              "outlinewidth": 0,
              "ticks": ""
             }
            },
            "type": "scattergl"
           }
          ],
          "scattermapbox": [
           {
            "marker": {
             "colorbar": {
              "outlinewidth": 0,
              "ticks": ""
             }
            },
            "type": "scattermapbox"
           }
          ],
          "scatterpolar": [
           {
            "marker": {
             "colorbar": {
              "outlinewidth": 0,
              "ticks": ""
             }
            },
            "type": "scatterpolar"
           }
          ],
          "scatterpolargl": [
           {
            "marker": {
             "colorbar": {
              "outlinewidth": 0,
              "ticks": ""
             }
            },
            "type": "scatterpolargl"
           }
          ],
          "scatterternary": [
           {
            "marker": {
             "colorbar": {
              "outlinewidth": 0,
              "ticks": ""
             }
            },
            "type": "scatterternary"
           }
          ],
          "surface": [
           {
            "colorbar": {
             "outlinewidth": 0,
             "ticks": ""
            },
            "colorscale": [
             [
              0,
              "#0d0887"
             ],
             [
              0.1111111111111111,
              "#46039f"
             ],
             [
              0.2222222222222222,
              "#7201a8"
             ],
             [
              0.3333333333333333,
              "#9c179e"
             ],
             [
              0.4444444444444444,
              "#bd3786"
             ],
             [
              0.5555555555555556,
              "#d8576b"
             ],
             [
              0.6666666666666666,
              "#ed7953"
             ],
             [
              0.7777777777777778,
              "#fb9f3a"
             ],
             [
              0.8888888888888888,
              "#fdca26"
             ],
             [
              1,
              "#f0f921"
             ]
            ],
            "type": "surface"
           }
          ],
          "table": [
           {
            "cells": {
             "fill": {
              "color": "#EBF0F8"
             },
             "line": {
              "color": "white"
             }
            },
            "header": {
             "fill": {
              "color": "#C8D4E3"
             },
             "line": {
              "color": "white"
             }
            },
            "type": "table"
           }
          ]
         },
         "layout": {
          "annotationdefaults": {
           "arrowcolor": "#2a3f5f",
           "arrowhead": 0,
           "arrowwidth": 1
          },
          "autotypenumbers": "strict",
          "coloraxis": {
           "colorbar": {
            "outlinewidth": 0,
            "ticks": ""
           }
          },
          "colorscale": {
           "diverging": [
            [
             0,
             "#8e0152"
            ],
            [
             0.1,
             "#c51b7d"
            ],
            [
             0.2,
             "#de77ae"
            ],
            [
             0.3,
             "#f1b6da"
            ],
            [
             0.4,
             "#fde0ef"
            ],
            [
             0.5,
             "#f7f7f7"
            ],
            [
             0.6,
             "#e6f5d0"
            ],
            [
             0.7,
             "#b8e186"
            ],
            [
             0.8,
             "#7fbc41"
            ],
            [
             0.9,
             "#4d9221"
            ],
            [
             1,
             "#276419"
            ]
           ],
           "sequential": [
            [
             0,
             "#0d0887"
            ],
            [
             0.1111111111111111,
             "#46039f"
            ],
            [
             0.2222222222222222,
             "#7201a8"
            ],
            [
             0.3333333333333333,
             "#9c179e"
            ],
            [
             0.4444444444444444,
             "#bd3786"
            ],
            [
             0.5555555555555556,
             "#d8576b"
            ],
            [
             0.6666666666666666,
             "#ed7953"
            ],
            [
             0.7777777777777778,
             "#fb9f3a"
            ],
            [
             0.8888888888888888,
             "#fdca26"
            ],
            [
             1,
             "#f0f921"
            ]
           ],
           "sequentialminus": [
            [
             0,
             "#0d0887"
            ],
            [
             0.1111111111111111,
             "#46039f"
            ],
            [
             0.2222222222222222,
             "#7201a8"
            ],
            [
             0.3333333333333333,
             "#9c179e"
            ],
            [
             0.4444444444444444,
             "#bd3786"
            ],
            [
             0.5555555555555556,
             "#d8576b"
            ],
            [
             0.6666666666666666,
             "#ed7953"
            ],
            [
             0.7777777777777778,
             "#fb9f3a"
            ],
            [
             0.8888888888888888,
             "#fdca26"
            ],
            [
             1,
             "#f0f921"
            ]
           ]
          },
          "colorway": [
           "#636efa",
           "#EF553B",
           "#00cc96",
           "#ab63fa",
           "#FFA15A",
           "#19d3f3",
           "#FF6692",
           "#B6E880",
           "#FF97FF",
           "#FECB52"
          ],
          "font": {
           "color": "#2a3f5f"
          },
          "geo": {
           "bgcolor": "white",
           "lakecolor": "white",
           "landcolor": "#E5ECF6",
           "showlakes": true,
           "showland": true,
           "subunitcolor": "white"
          },
          "hoverlabel": {
           "align": "left"
          },
          "hovermode": "closest",
          "mapbox": {
           "style": "light"
          },
          "paper_bgcolor": "white",
          "plot_bgcolor": "#E5ECF6",
          "polar": {
           "angularaxis": {
            "gridcolor": "white",
            "linecolor": "white",
            "ticks": ""
           },
           "bgcolor": "#E5ECF6",
           "radialaxis": {
            "gridcolor": "white",
            "linecolor": "white",
            "ticks": ""
           }
          },
          "scene": {
           "xaxis": {
            "backgroundcolor": "#E5ECF6",
            "gridcolor": "white",
            "gridwidth": 2,
            "linecolor": "white",
            "showbackground": true,
            "ticks": "",
            "zerolinecolor": "white"
           },
           "yaxis": {
            "backgroundcolor": "#E5ECF6",
            "gridcolor": "white",
            "gridwidth": 2,
            "linecolor": "white",
            "showbackground": true,
            "ticks": "",
            "zerolinecolor": "white"
           },
           "zaxis": {
            "backgroundcolor": "#E5ECF6",
            "gridcolor": "white",
            "gridwidth": 2,
            "linecolor": "white",
            "showbackground": true,
            "ticks": "",
            "zerolinecolor": "white"
           }
          },
          "shapedefaults": {
           "line": {
            "color": "#2a3f5f"
           }
          },
          "ternary": {
           "aaxis": {
            "gridcolor": "white",
            "linecolor": "white",
            "ticks": ""
           },
           "baxis": {
            "gridcolor": "white",
            "linecolor": "white",
            "ticks": ""
           },
           "bgcolor": "#E5ECF6",
           "caxis": {
            "gridcolor": "white",
            "linecolor": "white",
            "ticks": ""
           }
          },
          "title": {
           "x": 0.05
          },
          "xaxis": {
           "automargin": true,
           "gridcolor": "white",
           "linecolor": "white",
           "ticks": "",
           "title": {
            "standoff": 15
           },
           "zerolinecolor": "white",
           "zerolinewidth": 2
          },
          "yaxis": {
           "automargin": true,
           "gridcolor": "white",
           "linecolor": "white",
           "ticks": "",
           "title": {
            "standoff": 15
           },
           "zerolinecolor": "white",
           "zerolinewidth": 2
          }
         }
        },
        "title": {
         "text": "mass: 2,00e20, Starting point: (-10000, 50000), Initial velocity: [10, 500]"
        },
        "width": 800,
        "xaxis": {
         "anchor": "y",
         "domain": [
          0,
          1
         ],
         "title": {
          "text": "x / m"
         }
        },
        "yaxis": {
         "anchor": "x",
         "domain": [
          0,
          1
         ],
         "scaleanchor": "x",
         "scaleratio": 1,
         "title": {
          "text": "y / m"
         }
        }
       }
      },
      "image/png": "[encoded data removed]",
      "text/html": [
       "<div>                            <div id=\"155b33bc-96c0-4643-9a93-810c8fec4763\" class=\"plotly-graph-div\" style=\"height:800px; width:800px;\"></div>            <script type=\"text/javascript\">                require([\"plotly\"], function(Plotly) {                    window.PLOTLYENV=window.PLOTLYENV || {};                                    if (document.getElementById(\"155b33bc-96c0-4643-9a93-810c8fec4763\")) {                    Plotly.newPlot(                        \"155b33bc-96c0-4643-9a93-810c8fec4763\",                        [{\"hovertemplate\":\"x \\u002f m=%{x}\\u003cbr\\u003ey \\u002f m=%{y}\\u003cextra\\u003e\\u003c\\u002fextra\\u003e\",\"legendgroup\":\"\",\"marker\":{\"color\":\"#636efa\",\"symbol\":\"circle\"},\"mode\":\"markers\",\"name\":\"\",\"orientation\":\"v\",\"showlegend\":false,\"x\":[-10000.0,-10000.0,-8645.302297421287,-8645.302297421287,-6386.310863326937,-6386.310863326937,-3741.3329490202636,-3741.3329490202636,-927.4174901717682,-927.4174901717682,1923.45348488651,1923.45348488651,4701.294046852322,4701.294046852322,7281.377678824066,7281.377678824066,9473.577941557118,9473.577941557118,10880.023681738096,10880.023681738096,10072.509585629401,10072.509585629401,-13784.205631980125,-13784.205631980125,-24342.678426165556,-24342.678426165556,-32644.896575916126,-32644.896575916126,-40157.70481489533,-40157.70481489533,-47246.85101318935,-47246.85101318935,-54066.780294094475,-54066.780294094475,-60698.710420882315,-60698.710420882315,-67191.11371492097,-67191.11371492097,-73575.439540459,-73575.439540459,-79873.34582211109,-79873.34582211109,-86100.43111605057,-86100.43111605057,-92268.32986837576,-92268.32986837576,-98385.96716004219,-98385.96716004219,-104460.3495744174,-104460.3495744174,-110497.08488813743,-110497.08488813743,-116500.73559282483,-116500.73559282483,-122475.06651240778,-122475.06651240778,-128423.22263753373,-128423.22263753373,-134347.8596426569,-134347.8596426569,-140251.2415105042,-140251.2415105042,-146135.31478647696,-146135.31478647696,-152001.7659048602,-152001.7659048602,-157852.0660400154,-157852.0660400154,-163687.50662118007,-163687.50662118007,-169509.22776178346,-169509.22776178346,-175318.24124308175,-175318.24124308175,-181115.44926395823,-181115.44926395823,-186901.65986415313,-186901.65986415313,-192677.59970836967,-192677.59970836967,-198443.92475784628,-198443.92475784628,-204201.22923689667,-204201.22923689667,-209950.05321275134,-209950.05321275134,-215690.88903952486,-215690.88903952486,-221424.18686555664,-221424.18686555664,-227150.3593636408,-227150.3593636408,-232869.78581268174,-232869.78581268174,-238582.81563514707,-238582.81563514707,-244289.7714754734,-244289.7714754734,-249990.9518894415,-249990.9518894415,-255686.63370228562,-255686.63370228562,-261377.07408356539,-261377.07408356539,-267062.5123787946,-267062.5123787946,-272743.17173145345,-272743.17173145345,-278419.2605236038,-278419.2605236038,-284090.9736590199,-284090.9736590199,-289758.49370917236,-289758.49370917236,-295421.9919393105,-295421.9919393105,-301081.6292294669,-301081.6292294669,-306737.5569030994,-306737.5569030994,-312389.9174742829,-312389.9174742829,-318038.8453229251,-318038.8453229251,-323684.46730621066,-323684.46730621066,-329326.9033133659,-329326.9033133659,-334966.26676996547,-334966.26676996547,-340602.6650972477,-340602.6650972477,-346236.20013112866,-346236.20013112866,-351866.96850513294,-351866.96850513294,-357495.06200091704,-357495.06200091704,-363120.5678696289,-363120.5678696289,-368743.5691269904,-368743.5691269904,-374364.1448246136,-374364.1448246136,-379982.3702998676,-379982.3702998676,-385598.31740626215,-385598.31740626215,-391212.0547261855,-391212.0547261855,-396823.64776754915,-396823.64776754915,-402433.1591458571,-402433.1591458571,-408040.6487529195,-408040.6487529195,-413646.17391337466,-413646.17391337466,-419249.7895301166,-419249.7895301166,-424851.54821951356,-424851.54821951356,-430451.50043726974,-430451.50043726974,-436049.69459573133,-436049.69459573133,-441646.177173298,-441646.177173298,-447240.9928165875,-447240.9928165875,-452834.1844359088,-452834.1844359088,-458425.79329457204,-458425.79329457204,-464015.85909252224,-464015.85909252224,-469604.4200446932,-469604.4200446932,-475191.51295452076,-475191.51295452076,-480777.1732828964,-480777.1732828964,-486361.4352130269,-486361.4352130269,-491944.3317113193,-491944.3317113193,-497525.8945847491,-497525.8945847491,-503106.1545348247,-503106.1545348247,-508685.1412084588,-508685.1412084588,-514262.8832459174,-514262.8832459174,-519839.4083261088,-519839.4083261088,-525414.7432092893,-525414.7432092893,-530988.9137774617,-530988.9137774617,-536505.6686983058,-536505.6686983058],\"xaxis\":\"x\",\"y\":[50000.0,50000.0,70060.8293690527,70060.8293690527,83185.88460413722,83185.88460413722,91446.72444221089,91446.72444221089,95688.89260025535,95688.89260025535,96262.4474001142,96262.4474001142,93213.92689887622,93213.92689887622,86307.87653129369,86307.87653129369,74907.86435048218,74907.86435048218,57522.916478205196,57522.916478205196,29516.03307279867,29516.03307279867,29969.189590723385,29969.189590723385,72738.15965328719,72738.15965328719,109135.16921553377,109135.16921553377,142929.12339922134,142929.12339922134,175224.0468300938,175224.0468300938,206523.68016041812,206523.68016041812,237106.57600719863,237106.57600719863,267145.13097737945,267145.13097737945,296754.3615379856,296754.3615379856,326015.25854303566,326015.25854303566,354987.22989861376,354987.22989861376,383715.270744653,383715.270744653,412234.3524345802,412234.3524345802,440572.24125661765,440572.24125661765,468751.38103443995,468751.38103443995,496790.1921969141,496790.1921969141,524703.9932820885,524703.9932820885,552505.6702795094,552505.6702795094,580206.172908792,580206.172908792,607814.8892694255,607814.8892694255,635339.933209397,635339.933209397,662788.3678937899,662788.3678937899,690166.381962181,690166.381962181,717479.429929013,717479.429929013,744732.3452533239,744732.3452533239,771929.4322637172,771929.4322637172,799074.5415423186,799074.5415423186,826171.132237308,826171.132237308,853222.3239492412,853222.3239492412,880230.9402292931,880230.9402292931,907199.5452751952,907199.5452751952,934130.4750700152,934130.4750700152,961025.8639496833,961025.8639496833,987887.6673860813,987887.6673860813,1014717.6816181265,1014717.6816181265,1041517.5606429902,1041517.5606429902,1068288.8309844497,1068288.8309844497,1095032.9045802788,1095032.9045802788,1121751.0900704784,1121751.0900704784,1148444.6027199614,1148444.6027199614,1175114.5731701804,1175114.5731701804,1201762.0551824628,1201762.0551824628,1228388.0325101211,1228388.0325101211,1254993.42501494,1254993.42501494,1281579.0941258052,1281579.0941258052,1308145.84772336,1308145.84772336,1334694.4445216837,1334694.4445216837,1361225.5980082038,1361225.5980082038,1387739.979994597,1387739.979994597,1414238.2238239886,1414238.2238239886,1440720.9272736956,1440720.9272736956,1467188.655187908,1467188.655187908,1493641.9418697963,1493641.9418697963,1520081.2932593408,1520081.2932593408,1546507.1889192422,1546507.1889192422,1572920.0838493386,1572920.0838493386,1599320.4101467172,1599320.4101467172,1625708.5785273088,1625708.5785273088,1652084.9797225439,1652084.9797225439,1678449.985763258,1678449.985763258,1704803.951161608,1704803.951161608,1731147.2140007236,1731147.2140007236,1757480.0969403796,1757480.0969403796,1783802.9081467513,1783802.9081467513,1810115.9421526068,1810115.9421526068,1836419.480654525,1836419.480654525,1862713.7932522837,1862713.7932522837,1888999.1381356074,1888999.1381356074,1915275.762722691,1915275.762722691,1941543.904254356,1941543.904254356,1967803.7903477524,1967803.7903477524,1994055.639512731,1994055.639512731,2020299.6616338324,2020299.6616338324,2046536.058420742,2046536.058420742,2072765.0238295817,2072765.0238295817,2098986.744457275,2098986.744457275,2125201.3999111336,2125201.3999111336,2151409.163155337,2151409.163155337,2177610.2008361896,2177610.2008361896,2203804.673587658,2203804.673587658,2229992.736318447,2229992.736318447,2256174.538482322,2256174.538482322,2282350.224332355,2282350.224332355,2308519.933160688,2308519.933160688,2334683.7995243873,2334683.7995243873,2360841.953458712,2360841.953458712,2386994.5206783493,2386994.5206783493,2413141.6227676617,2413141.6227676617,2439283.377360441,2439283.377360441,2465155.971635452,2465155.971635452],\"yaxis\":\"y\",\"type\":\"scatter\"}],                        {\"template\":{\"data\":{\"histogram2dcontour\":[{\"type\":\"histogram2dcontour\",\"colorbar\":{\"outlinewidth\":0,\"ticks\":\"\"},\"colorscale\":[[0.0,\"#0d0887\"],[0.1111111111111111,\"#46039f\"],[0.2222222222222222,\"#7201a8\"],[0.3333333333333333,\"#9c179e\"],[0.4444444444444444,\"#bd3786\"],[0.5555555555555556,\"#d8576b\"],[0.6666666666666666,\"#ed7953\"],[0.7777777777777778,\"#fb9f3a\"],[0.8888888888888888,\"#fdca26\"],[1.0,\"#f0f921\"]]}],\"choropleth\":[{\"type\":\"choropleth\",\"colorbar\":{\"outlinewidth\":0,\"ticks\":\"\"}}],\"histogram2d\":[{\"type\":\"histogram2d\",\"colorbar\":{\"outlinewidth\":0,\"ticks\":\"\"},\"colorscale\":[[0.0,\"#0d0887\"],[0.1111111111111111,\"#46039f\"],[0.2222222222222222,\"#7201a8\"],[0.3333333333333333,\"#9c179e\"],[0.4444444444444444,\"#bd3786\"],[0.5555555555555556,\"#d8576b\"],[0.6666666666666666,\"#ed7953\"],[0.7777777777777778,\"#fb9f3a\"],[0.8888888888888888,\"#fdca26\"],[1.0,\"#f0f921\"]]}],\"heatmap\":[{\"type\":\"heatmap\",\"colorbar\":{\"outlinewidth\":0,\"ticks\":\"\"},\"colorscale\":[[0.0,\"#0d0887\"],[0.1111111111111111,\"#46039f\"],[0.2222222222222222,\"#7201a8\"],[0.3333333333333333,\"#9c179e\"],[0.4444444444444444,\"#bd3786\"],[0.5555555555555556,\"#d8576b\"],[0.6666666666666666,\"#ed7953\"],[0.7777777777777778,\"#fb9f3a\"],[0.8888888888888888,\"#fdca26\"],[1.0,\"#f0f921\"]]}],\"heatmapgl\":[{\"type\":\"heatmapgl\",\"colorbar\":{\"outlinewidth\":0,\"ticks\":\"\"},\"colorscale\":[[0.0,\"#0d0887\"],[0.1111111111111111,\"#46039f\"],[0.2222222222222222,\"#7201a8\"],[0.3333333333333333,\"#9c179e\"],[0.4444444444444444,\"#bd3786\"],[0.5555555555555556,\"#d8576b\"],[0.6666666666666666,\"#ed7953\"],[0.7777777777777778,\"#fb9f3a\"],[0.8888888888888888,\"#fdca26\"],[1.0,\"#f0f921\"]]}],\"contourcarpet\":[{\"type\":\"contourcarpet\",\"colorbar\":{\"outlinewidth\":0,\"ticks\":\"\"}}],\"contour\":[{\"type\":\"contour\",\"colorbar\":{\"outlinewidth\":0,\"ticks\":\"\"},\"colorscale\":[[0.0,\"#0d0887\"],[0.1111111111111111,\"#46039f\"],[0.2222222222222222,\"#7201a8\"],[0.3333333333333333,\"#9c179e\"],[0.4444444444444444,\"#bd3786\"],[0.5555555555555556,\"#d8576b\"],[0.6666666666666666,\"#ed7953\"],[0.7777777777777778,\"#fb9f3a\"],[0.8888888888888888,\"#fdca26\"],[1.0,\"#f0f921\"]]}],\"surface\":[{\"type\":\"surface\",\"colorbar\":{\"outlinewidth\":0,\"ticks\":\"\"},\"colorscale\":[[0.0,\"#0d0887\"],[0.1111111111111111,\"#46039f\"],[0.2222222222222222,\"#7201a8\"],[0.3333333333333333,\"#9c179e\"],[0.4444444444444444,\"#bd3786\"],[0.5555555555555556,\"#d8576b\"],[0.6666666666666666,\"#ed7953\"],[0.7777777777777778,\"#fb9f3a\"],[0.8888888888888888,\"#fdca26\"],[1.0,\"#f0f921\"]]}],\"mesh3d\":[{\"type\":\"mesh3d\",\"colorbar\":{\"outlinewidth\":0,\"ticks\":\"\"}}],\"scatter\":[{\"fillpattern\":{\"fillmode\":\"overlay\",\"size\":10,\"solidity\":0.2},\"type\":\"scatter\"}],\"parcoords\":[{\"type\":\"parcoords\",\"line\":{\"colorbar\":{\"outlinewidth\":0,\"ticks\":\"\"}}}],\"scatterpolargl\":[{\"type\":\"scatterpolargl\",\"marker\":{\"colorbar\":{\"outlinewidth\":0,\"ticks\":\"\"}}}],\"bar\":[{\"error_x\":{\"color\":\"#2a3f5f\"},\"error_y\":{\"color\":\"#2a3f5f\"},\"marker\":{\"line\":{\"color\":\"#E5ECF6\",\"width\":0.5},\"pattern\":{\"fillmode\":\"overlay\",\"size\":10,\"solidity\":0.2}},\"type\":\"bar\"}],\"scattergeo\":[{\"type\":\"scattergeo\",\"marker\":{\"colorbar\":{\"outlinewidth\":0,\"ticks\":\"\"}}}],\"scatterpolar\":[{\"type\":\"scatterpolar\",\"marker\":{\"colorbar\":{\"outlinewidth\":0,\"ticks\":\"\"}}}],\"histogram\":[{\"marker\":{\"pattern\":{\"fillmode\":\"overlay\",\"size\":10,\"solidity\":0.2}},\"type\":\"histogram\"}],\"scattergl\":[{\"type\":\"scattergl\",\"marker\":{\"colorbar\":{\"outlinewidth\":0,\"ticks\":\"\"}}}],\"scatter3d\":[{\"type\":\"scatter3d\",\"line\":{\"colorbar\":{\"outlinewidth\":0,\"ticks\":\"\"}},\"marker\":{\"colorbar\":{\"outlinewidth\":0,\"ticks\":\"\"}}}],\"scattermapbox\":[{\"type\":\"scattermapbox\",\"marker\":{\"colorbar\":{\"outlinewidth\":0,\"ticks\":\"\"}}}],\"scatterternary\":[{\"type\":\"scatterternary\",\"marker\":{\"colorbar\":{\"outlinewidth\":0,\"ticks\":\"\"}}}],\"scattercarpet\":[{\"type\":\"scattercarpet\",\"marker\":{\"colorbar\":{\"outlinewidth\":0,\"ticks\":\"\"}}}],\"carpet\":[{\"aaxis\":{\"endlinecolor\":\"#2a3f5f\",\"gridcolor\":\"white\",\"linecolor\":\"white\",\"minorgridcolor\":\"white\",\"startlinecolor\":\"#2a3f5f\"},\"baxis\":{\"endlinecolor\":\"#2a3f5f\",\"gridcolor\":\"white\",\"linecolor\":\"white\",\"minorgridcolor\":\"white\",\"startlinecolor\":\"#2a3f5f\"},\"type\":\"carpet\"}],\"table\":[{\"cells\":{\"fill\":{\"color\":\"#EBF0F8\"},\"line\":{\"color\":\"white\"}},\"header\":{\"fill\":{\"color\":\"#C8D4E3\"},\"line\":{\"color\":\"white\"}},\"type\":\"table\"}],\"barpolar\":[{\"marker\":{\"line\":{\"color\":\"#E5ECF6\",\"width\":0.5},\"pattern\":{\"fillmode\":\"overlay\",\"size\":10,\"solidity\":0.2}},\"type\":\"barpolar\"}],\"pie\":[{\"automargin\":true,\"type\":\"pie\"}]},\"layout\":{\"autotypenumbers\":\"strict\",\"colorway\":[\"#636efa\",\"#EF553B\",\"#00cc96\",\"#ab63fa\",\"#FFA15A\",\"#19d3f3\",\"#FF6692\",\"#B6E880\",\"#FF97FF\",\"#FECB52\"],\"font\":{\"color\":\"#2a3f5f\"},\"hovermode\":\"closest\",\"hoverlabel\":{\"align\":\"left\"},\"paper_bgcolor\":\"white\",\"plot_bgcolor\":\"#E5ECF6\",\"polar\":{\"bgcolor\":\"#E5ECF6\",\"angularaxis\":{\"gridcolor\":\"white\",\"linecolor\":\"white\",\"ticks\":\"\"},\"radialaxis\":{\"gridcolor\":\"white\",\"linecolor\":\"white\",\"ticks\":\"\"}},\"ternary\":{\"bgcolor\":\"#E5ECF6\",\"aaxis\":{\"gridcolor\":\"white\",\"linecolor\":\"white\",\"ticks\":\"\"},\"baxis\":{\"gridcolor\":\"white\",\"linecolor\":\"white\",\"ticks\":\"\"},\"caxis\":{\"gridcolor\":\"white\",\"linecolor\":\"white\",\"ticks\":\"\"}},\"coloraxis\":{\"colorbar\":{\"outlinewidth\":0,\"ticks\":\"\"}},\"colorscale\":{\"sequential\":[[0.0,\"#0d0887\"],[0.1111111111111111,\"#46039f\"],[0.2222222222222222,\"#7201a8\"],[0.3333333333333333,\"#9c179e\"],[0.4444444444444444,\"#bd3786\"],[0.5555555555555556,\"#d8576b\"],[0.6666666666666666,\"#ed7953\"],[0.7777777777777778,\"#fb9f3a\"],[0.8888888888888888,\"#fdca26\"],[1.0,\"#f0f921\"]],\"sequentialminus\":[[0.0,\"#0d0887\"],[0.1111111111111111,\"#46039f\"],[0.2222222222222222,\"#7201a8\"],[0.3333333333333333,\"#9c179e\"],[0.4444444444444444,\"#bd3786\"],[0.5555555555555556,\"#d8576b\"],[0.6666666666666666,\"#ed7953\"],[0.7777777777777778,\"#fb9f3a\"],[0.8888888888888888,\"#fdca26\"],[1.0,\"#f0f921\"]],\"diverging\":[[0,\"#8e0152\"],[0.1,\"#c51b7d\"],[0.2,\"#de77ae\"],[0.3,\"#f1b6da\"],[0.4,\"#fde0ef\"],[0.5,\"#f7f7f7\"],[0.6,\"#e6f5d0\"],[0.7,\"#b8e186\"],[0.8,\"#7fbc41\"],[0.9,\"#4d9221\"],[1,\"#276419\"]]},\"xaxis\":{\"gridcolor\":\"white\",\"linecolor\":\"white\",\"ticks\":\"\",\"title\":{\"standoff\":15},\"zerolinecolor\":\"white\",\"automargin\":true,\"zerolinewidth\":2},\"yaxis\":{\"gridcolor\":\"white\",\"linecolor\":\"white\",\"ticks\":\"\",\"title\":{\"standoff\":15},\"zerolinecolor\":\"white\",\"automargin\":true,\"zerolinewidth\":2},\"scene\":{\"xaxis\":{\"backgroundcolor\":\"#E5ECF6\",\"gridcolor\":\"white\",\"linecolor\":\"white\",\"showbackground\":true,\"ticks\":\"\",\"zerolinecolor\":\"white\",\"gridwidth\":2},\"yaxis\":{\"backgroundcolor\":\"#E5ECF6\",\"gridcolor\":\"white\",\"linecolor\":\"white\",\"showbackground\":true,\"ticks\":\"\",\"zerolinecolor\":\"white\",\"gridwidth\":2},\"zaxis\":{\"backgroundcolor\":\"#E5ECF6\",\"gridcolor\":\"white\",\"linecolor\":\"white\",\"showbackground\":true,\"ticks\":\"\",\"zerolinecolor\":\"white\",\"gridwidth\":2}},\"shapedefaults\":{\"line\":{\"color\":\"#2a3f5f\"}},\"annotationdefaults\":{\"arrowcolor\":\"#2a3f5f\",\"arrowhead\":0,\"arrowwidth\":1},\"geo\":{\"bgcolor\":\"white\",\"landcolor\":\"#E5ECF6\",\"subunitcolor\":\"white\",\"showland\":true,\"showlakes\":true,\"lakecolor\":\"white\"},\"title\":{\"x\":0.05},\"mapbox\":{\"style\":\"light\"}}},\"xaxis\":{\"anchor\":\"y\",\"domain\":[0.0,1.0],\"title\":{\"text\":\"x \\u002f m\"}},\"yaxis\":{\"anchor\":\"x\",\"domain\":[0.0,1.0],\"title\":{\"text\":\"y \\u002f m\"},\"scaleanchor\":\"x\",\"scaleratio\":1},\"legend\":{\"tracegroupgap\":0},\"margin\":{\"t\":60},\"width\":800,\"height\":800,\"title\":{\"text\":\"mass: 2,00e20, Starting point: (-10000, 50000), Initial velocity: [10, 500]\"}},                        {\"responsive\": true}                    ).then(function(){\n",
       "                            \n",
       "var gd = document.getElementById('155b33bc-96c0-4643-9a93-810c8fec4763');\n",
       "var x = new MutationObserver(function (mutations, observer) {{\n",
       "        var display = window.getComputedStyle(gd).display;\n",
       "        if (!display || display === 'none') {{\n",
       "            console.log([gd, 'removed!']);\n",
       "            Plotly.purge(gd);\n",
       "            observer.disconnect();\n",
       "        }}\n",
       "}});\n",
       "\n",
       "// Listen for the removal of the full notebook cells\n",
       "var notebookContainer = gd.closest('#notebook-container');\n",
       "if (notebookContainer) {{\n",
       "    x.observe(notebookContainer, {childList: true});\n",
       "}}\n",
       "\n",
       "// Listen for the clearing of the current output cell\n",
       "var outputEl = gd.closest('.output');\n",
       "if (outputEl) {{\n",
       "    x.observe(outputEl, {childList: true});\n",
       "}}\n",
       "\n",
       "                        })                };                });            </script>        </div>"
      ]
     },
     "metadata": {},
     "output_type": "display_data"
    }
   ],
   "source": [
    "\n",
    "# active part of the code, in the end shows the plot\n",
    "points_list= move(isOrbital, factor)\n",
    "prep = prepare()\n",
    "coords = ms.sort(points_list)\n",
    "fig = px.scatter(x=coords[0], y=coords[1], labels={\"x\": \"x / m\", \"y\": \"y / m\"})\n",
    "fig.update_layout(\n",
    "    width=800,\n",
    "    height=800,\n",
    "     title=\"mass: {0}, Starting point: {1}, Initial velocity: {2}\".format(\n",
    "        prep[0], start_point, prep[1]\n",
    "    ),\n",
    ")\n",
    "fig.update_yaxes(scaleanchor=\"x\", scaleratio=1)\n",
    "fig.show()"
   ]
  },
  {
   "cell_type": "code",
   "execution_count": null,
   "id": "dd9b2029-5578-4523-97ca-7f99b54fc15b",
   "metadata": {},
   "outputs": [],
   "source": []
  }
 ],
 "metadata": {
  "kernelspec": {
   "display_name": "Python 3 (ipykernel)",
   "language": "python",
   "name": "python3"
  },
  "language_info": {
   "codemirror_mode": {
    "name": "ipython",
    "version": 3
   },
   "file_extension": ".py",
   "mimetype": "text/x-python",
   "name": "python",
   "nbconvert_exporter": "python",
   "pygments_lexer": "ipython3",
   "version": "3.11.4"
  }
 },
 "nbformat": 4,
 "nbformat_minor": 5
}
