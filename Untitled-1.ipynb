{
 "cells": [
  {
   "cell_type": "code",
   "execution_count": null,
   "id": "2f20fdfc",
   "metadata": {},
   "outputs": [],
   "source": [
    "import math as mt\n",
    "import maths as ms\n",
    "import main as ma\n",
    "import plotly.express as px"
   ]
  },
  {
   "cell_type": "markdown",
   "id": "5e704118",
   "metadata": {},
   "source": [
    "In the box below enter the initial constants for the calculation"
   ]
  },
  {
   "cell_type": "code",
   "execution_count": null,
   "id": "2df2e26a",
   "metadata": {},
   "outputs": [],
   "source": [
    "# constants\n",
    "gravitational_constant = 6.6743e-11  # meter cubed  per kilogram per second squared\n",
    "start_point = (-100, 500)  # meters\n",
    "start_velocity = (1, 5) # meter per second\n",
    "mass = 2e14 # kilograms\n",
    "dt = 0.01 # seconds\n",
    "limit_t = 50000 # seconds\n",
    "sampling = 100 # 1 out of sampling (e.g. 100) will be displayed in plot\n",
    "isOrbital = False # if True automatically calculates orbital vel\n",
    "factor = 1 # a coefficient for orbital speed\n",
    "\n",
    "grav_parameter = mass * gravitational_constant  # meter cubed per second squared\n",
    "epsilon_0 = 1 / mt.sqrt(pow(start_point[0], 2) + pow(start_point[1], 2))\n",
    "orbital_speed = mt.sqrt(grav_parameter * epsilon_0)\n",
    "orbital_vel = ms.multiply(\n",
    "    orbital_speed * epsilon_0,\n",
    "    [-start_point[1], start_point[0]],\n",
    ")\n",
    "print(\"Orbital speed for current conditions: \"+str(orbital_speed))"
   ]
  },
  {
   "cell_type": "code",
   "execution_count": null,
   "id": "cf78c24a",
   "metadata": {},
   "outputs": [
    {
     "ename": "ValueError",
     "evalue": "Mime type rendering requires nbformat>=4.2.0 but it is not installed",
     "output_type": "error",
     "traceback": [
      "\u001b[31m---------------------------------------------------------------------------\u001b[39m",
      "\u001b[31mValueError\u001b[39m                                Traceback (most recent call last)",
      "\u001b[36mCell\u001b[39m\u001b[36m \u001b[39m\u001b[32mIn[12]\u001b[39m\u001b[32m, line 14\u001b[39m\n\u001b[32m      6\u001b[39m fig.update_layout(\n\u001b[32m      7\u001b[39m     width=\u001b[32m800\u001b[39m,\n\u001b[32m      8\u001b[39m     height=\u001b[32m800\u001b[39m,\n\u001b[32m   (...)\u001b[39m\u001b[32m     11\u001b[39m     ),\n\u001b[32m     12\u001b[39m )\n\u001b[32m     13\u001b[39m fig.update_yaxes(scaleanchor=\u001b[33m\"\u001b[39m\u001b[33mx\u001b[39m\u001b[33m\"\u001b[39m, scaleratio=\u001b[32m1\u001b[39m)\n\u001b[32m---> \u001b[39m\u001b[32m14\u001b[39m \u001b[43mfig\u001b[49m\u001b[43m.\u001b[49m\u001b[43mshow\u001b[49m\u001b[43m(\u001b[49m\u001b[43m)\u001b[49m\n",
      "\u001b[36mFile \u001b[39m\u001b[32mc:\\Users\\gamebox\\AppData\\Local\\Programs\\Python\\Python311\\Lib\\site-packages\\plotly\\basedatatypes.py:3410\u001b[39m, in \u001b[36mBaseFigure.show\u001b[39m\u001b[34m(self, *args, **kwargs)\u001b[39m\n\u001b[32m   3377\u001b[39m \u001b[38;5;250m\u001b[39m\u001b[33;03m\"\"\"\u001b[39;00m\n\u001b[32m   3378\u001b[39m \u001b[33;03mShow a figure using either the default renderer(s) or the renderer(s)\u001b[39;00m\n\u001b[32m   3379\u001b[39m \u001b[33;03mspecified by the renderer argument\u001b[39;00m\n\u001b[32m   (...)\u001b[39m\u001b[32m   3406\u001b[39m \u001b[33;03mNone\u001b[39;00m\n\u001b[32m   3407\u001b[39m \u001b[33;03m\"\"\"\u001b[39;00m\n\u001b[32m   3408\u001b[39m \u001b[38;5;28;01mimport\u001b[39;00m\u001b[38;5;250m \u001b[39m\u001b[34;01mplotly\u001b[39;00m\u001b[34;01m.\u001b[39;00m\u001b[34;01mio\u001b[39;00m\u001b[38;5;250m \u001b[39m\u001b[38;5;28;01mas\u001b[39;00m\u001b[38;5;250m \u001b[39m\u001b[34;01mpio\u001b[39;00m\n\u001b[32m-> \u001b[39m\u001b[32m3410\u001b[39m \u001b[38;5;28;01mreturn\u001b[39;00m \u001b[43mpio\u001b[49m\u001b[43m.\u001b[49m\u001b[43mshow\u001b[49m\u001b[43m(\u001b[49m\u001b[38;5;28;43mself\u001b[39;49m\u001b[43m,\u001b[49m\u001b[43m \u001b[49m\u001b[43m*\u001b[49m\u001b[43margs\u001b[49m\u001b[43m,\u001b[49m\u001b[43m \u001b[49m\u001b[43m*\u001b[49m\u001b[43m*\u001b[49m\u001b[43mkwargs\u001b[49m\u001b[43m)\u001b[49m\n",
      "\u001b[36mFile \u001b[39m\u001b[32mc:\\Users\\gamebox\\AppData\\Local\\Programs\\Python\\Python311\\Lib\\site-packages\\plotly\\io\\_renderers.py:394\u001b[39m, in \u001b[36mshow\u001b[39m\u001b[34m(fig, renderer, validate, **kwargs)\u001b[39m\n\u001b[32m    389\u001b[39m         \u001b[38;5;28;01mraise\u001b[39;00m \u001b[38;5;167;01mValueError\u001b[39;00m(\n\u001b[32m    390\u001b[39m             \u001b[33m\"\u001b[39m\u001b[33mMime type rendering requires ipython but it is not installed\u001b[39m\u001b[33m\"\u001b[39m\n\u001b[32m    391\u001b[39m         )\n\u001b[32m    393\u001b[39m     \u001b[38;5;28;01mif\u001b[39;00m \u001b[38;5;129;01mnot\u001b[39;00m nbformat \u001b[38;5;129;01mor\u001b[39;00m Version(nbformat.__version__) < Version(\u001b[33m\"\u001b[39m\u001b[33m4.2.0\u001b[39m\u001b[33m\"\u001b[39m):\n\u001b[32m--> \u001b[39m\u001b[32m394\u001b[39m         \u001b[38;5;28;01mraise\u001b[39;00m \u001b[38;5;167;01mValueError\u001b[39;00m(\n\u001b[32m    395\u001b[39m             \u001b[33m\"\u001b[39m\u001b[33mMime type rendering requires nbformat>=4.2.0 but it is not installed\u001b[39m\u001b[33m\"\u001b[39m\n\u001b[32m    396\u001b[39m         )\n\u001b[32m    398\u001b[39m     ipython_display.display(bundle, raw=\u001b[38;5;28;01mTrue\u001b[39;00m)\n\u001b[32m    400\u001b[39m \u001b[38;5;66;03m# external renderers\u001b[39;00m\n",
      "\u001b[31mValueError\u001b[39m: Mime type rendering requires nbformat>=4.2.0 but it is not installed"
     ]
    }
   ],
   "source": [
    "\n",
    "# active part of the code, in the end shows the plot\n",
    "points_list=ma.move(isOrbital, factor)\n",
    "prep = ma.prepare()\n",
    "coords = ms.sort(points_list)\n",
    "fig = px.scatter(x=coords[0], y=coords[1], labels={\"x\": \"x / m\", \"y\": \"y / m\"})\n",
    "fig.update_layout(\n",
    "    width=800,\n",
    "    height=800,\n",
    "     title=\"mass: {0}, Starting point: {1}, Initial velocity: {2}\".format(\n",
    "        prep[0], start_point, prep[1]\n",
    "    ),\n",
    ")\n",
    "fig.update_yaxes(scaleanchor=\"x\", scaleratio=1)\n",
    "fig.show()"
   ]
  }
 ],
 "metadata": {
  "kernelspec": {
   "display_name": "Python 3",
   "language": "python",
   "name": "python3"
  },
  "language_info": {
   "codemirror_mode": {
    "name": "ipython",
    "version": 3
   },
   "file_extension": ".py",
   "mimetype": "text/x-python",
   "name": "python",
   "nbconvert_exporter": "python",
   "pygments_lexer": "ipython3",
   "version": "3.11.4"
  }
 },
 "nbformat": 4,
 "nbformat_minor": 5
}
